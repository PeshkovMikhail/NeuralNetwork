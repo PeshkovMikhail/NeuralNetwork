{
 "cells": [
  {
   "cell_type": "code",
   "execution_count": 1,
   "metadata": {},
   "outputs": [],
   "source": [
    "from linear import *\n",
    "from convolutional import *\n",
    "from activations import *\n",
    "from loss import CategoricalCrossEntropyLoss\n",
    "import mnist\n",
    "\n",
    "np.random.seed(0)"
   ]
  },
  {
   "cell_type": "code",
   "execution_count": 2,
   "metadata": {},
   "outputs": [],
   "source": [
    "class MnistConv:\n",
    "    def __init__(self, lr = 0.01) -> None:\n",
    "        self.layers = [\n",
    "            ConvLayer(1, 32, 5, activaton=ReLu()),\n",
    "            MaxPool(2),\n",
    "            Flatten(),\n",
    "            Linear(32*12**2, 64, Sigmoid()),\n",
    "            Linear(64, 10, None)\n",
    "        ]\n",
    "        self.lr = lr\n",
    "        self.res = None\n",
    "    \n",
    "    def forward(self, x):\n",
    "        for layer in self.layers:\n",
    "            x = layer(x)\n",
    "        self.res = x\n",
    "        return x\n",
    "    \n",
    "    def backward(self, expected_output):\n",
    "        loss = CategoricalCrossEntropyLoss()\n",
    "        loss_val = loss(self.res, expected_output)\n",
    "        err = loss.derivatives()\n",
    "        for layer in reversed(self.layers):\n",
    "            err = layer.backward(err, self.lr)\n",
    "        return loss_val"
   ]
  },
  {
   "cell_type": "code",
   "execution_count": 3,
   "metadata": {},
   "outputs": [],
   "source": [
    "x_train, t_train, x_test, t_test = mnist.load()\n",
    "model = MnistConv()"
   ]
  },
  {
   "cell_type": "code",
   "execution_count": 4,
   "metadata": {},
   "outputs": [
    {
     "name": "stdout",
     "output_type": "stream",
     "text": [
      "epoch 0/3\n"
     ]
    },
    {
     "name": "stderr",
     "output_type": "stream",
     "text": [
      "/home/mpeshkov/Documents/backup/NeuralNetwork/loss.py:3: RuntimeWarning: overflow encountered in exp\n",
      "  e = np.exp(tensor)\n",
      "/home/mpeshkov/Documents/backup/NeuralNetwork/loss.py:4: RuntimeWarning: invalid value encountered in divide\n",
      "  return e/np.sum(e, axis= 1, keepdims=True)\n",
      "/home/mpeshkov/Documents/backup/NeuralNetwork/loss.py:14: RuntimeWarning: divide by zero encountered in log\n",
      "  return np.mean(-np.log(self.vals[:, label]))\n"
     ]
    },
    {
     "name": "stdout",
     "output_type": "stream",
     "text": [
      "epoch: 0.1.0, loss: nan\n"
     ]
    },
    {
     "ename": "KeyboardInterrupt",
     "evalue": "",
     "output_type": "error",
     "traceback": [
      "\u001b[0;31m---------------------------------------------------------------------------\u001b[0m",
      "\u001b[0;31mKeyboardInterrupt\u001b[0m                         Traceback (most recent call last)",
      "Cell \u001b[0;32mIn[4], line 9\u001b[0m\n\u001b[1;32m      6\u001b[0m \u001b[39mfor\u001b[39;00m i, (img, label) \u001b[39min\u001b[39;00m \u001b[39menumerate\u001b[39m(\u001b[39mzip\u001b[39m(x_train[:\u001b[39m10000\u001b[39m], t_train[:\u001b[39m10000\u001b[39m])):\n\u001b[1;32m      8\u001b[0m     res \u001b[39m=\u001b[39m model\u001b[39m.\u001b[39mforward(img\u001b[39m.\u001b[39mreshape((\u001b[39m1\u001b[39m, \u001b[39m1\u001b[39m, \u001b[39m28\u001b[39m, \u001b[39m28\u001b[39m))\u001b[39m/\u001b[39m\u001b[39m255.0\u001b[39m)\n\u001b[0;32m----> 9\u001b[0m     loss_val \u001b[39m+\u001b[39m\u001b[39m=\u001b[39m model\u001b[39m.\u001b[39;49mbackward(label)\n\u001b[1;32m     10\u001b[0m     \u001b[39mif\u001b[39;00m i \u001b[39m%\u001b[39m \u001b[39m100\u001b[39m \u001b[39m==\u001b[39m \u001b[39m0\u001b[39m \u001b[39mand\u001b[39;00m i \u001b[39m>\u001b[39m \u001b[39m0\u001b[39m:\n\u001b[1;32m     11\u001b[0m         \u001b[39mprint\u001b[39m(\u001b[39mf\u001b[39m\u001b[39m\"\u001b[39m\u001b[39mepoch: \u001b[39m\u001b[39m{\u001b[39;00mepoch\u001b[39m}\u001b[39;00m\u001b[39m.\u001b[39m\u001b[39m{\u001b[39;00mi\u001b[39m/\u001b[39m\u001b[39m100\u001b[39m\u001b[39m}\u001b[39;00m\u001b[39m, loss: \u001b[39m\u001b[39m{\u001b[39;00mloss_val\u001b[39m/\u001b[39m\u001b[39m100\u001b[39m\u001b[39m}\u001b[39;00m\u001b[39m\"\u001b[39m)\n",
      "Cell \u001b[0;32mIn[2], line 24\u001b[0m, in \u001b[0;36mMnistConv.backward\u001b[0;34m(self, expected_output)\u001b[0m\n\u001b[1;32m     22\u001b[0m err \u001b[39m=\u001b[39m loss\u001b[39m.\u001b[39mderivatives()\n\u001b[1;32m     23\u001b[0m \u001b[39mfor\u001b[39;00m layer \u001b[39min\u001b[39;00m \u001b[39mreversed\u001b[39m(\u001b[39mself\u001b[39m\u001b[39m.\u001b[39mlayers):\n\u001b[0;32m---> 24\u001b[0m     err \u001b[39m=\u001b[39m layer\u001b[39m.\u001b[39;49mbackward(err, \u001b[39mself\u001b[39;49m\u001b[39m.\u001b[39;49mlr)\n\u001b[1;32m     25\u001b[0m \u001b[39mreturn\u001b[39;00m loss_val\n",
      "File \u001b[0;32m~/Documents/backup/NeuralNetwork/convolutional.py:113\u001b[0m, in \u001b[0;36mConvLayer.backward\u001b[0;34m(self, dout, lr)\u001b[0m\n\u001b[1;32m    111\u001b[0m             \u001b[39mfor\u001b[39;00m j \u001b[39min\u001b[39;00m \u001b[39mrange\u001b[39m(W\u001b[39m+\u001b[39m\u001b[39m2\u001b[39m\u001b[39m*\u001b[39m\u001b[39mself\u001b[39m\u001b[39m.\u001b[39m_padding):\n\u001b[1;32m    112\u001b[0m                 \u001b[39mfor\u001b[39;00m c \u001b[39min\u001b[39;00m \u001b[39mrange\u001b[39m(C): \u001b[39m# profondeur\u001b[39;00m\n\u001b[0;32m--> 113\u001b[0m                     dxp[n,c, i, j] \u001b[39m=\u001b[39m np\u001b[39m.\u001b[39;49msum(doutp[n,f, i:i\u001b[39m+\u001b[39;49mHH, j: j \u001b[39m+\u001b[39;49m WW]\u001b[39m*\u001b[39;49mw_[f, c])\n\u001b[1;32m    114\u001b[0m \u001b[39m#Remove padding for dx\u001b[39;00m\n\u001b[1;32m    115\u001b[0m dx \u001b[39m=\u001b[39m dxp[:,:,\u001b[39mself\u001b[39m\u001b[39m.\u001b[39m_padding:\u001b[39m-\u001b[39m\u001b[39mself\u001b[39m\u001b[39m.\u001b[39m_padding,\u001b[39mself\u001b[39m\u001b[39m.\u001b[39m_padding:\u001b[39m-\u001b[39m\u001b[39mself\u001b[39m\u001b[39m.\u001b[39m_padding]\n",
      "File \u001b[0;32m<__array_function__ internals>:177\u001b[0m, in \u001b[0;36msum\u001b[0;34m(*args, **kwargs)\u001b[0m\n",
      "\u001b[0;31mKeyboardInterrupt\u001b[0m: "
     ]
    }
   ],
   "source": [
    "EPOCHES = 3\n",
    "\n",
    "for epoch in range(EPOCHES):\n",
    "    print(f\"epoch {epoch}/{EPOCHES}\")\n",
    "    loss_val = 0\n",
    "    for i, (img, label) in enumerate(zip(x_train[:10000], t_train[:10000])):\n",
    "\n",
    "        res = model.forward(img.reshape((1, 1, 28, 28))/255.0)\n",
    "        loss_val += model.backward(label)\n",
    "        if i % 100 == 0 and i > 0:\n",
    "            print(f\"epoch: {epoch}.{i/100}, loss: {loss_val/100}\")\n",
    "            loss_val = 0\n",
    "\n",
    "\n"
   ]
  },
  {
   "cell_type": "code",
   "execution_count": null,
   "metadata": {},
   "outputs": [
    {
     "name": "stdout",
     "output_type": "stream",
     "text": [
      "[ 83. 111.  73.  71.  84.  49.  83. 103.  66.  82.]\n",
      "[ 97. 116.  99.  93. 105.  92.  94. 117.  87. 100.]\n",
      "[ 89. 135.  87. 100.  97.  70. 111. 123.  80. 108.]\n"
     ]
    }
   ],
   "source": [
    "results = np.zeros((3, 10))\n",
    "for (img, label) in zip(x_train[:1000], t_train[:1000]):\n",
    "    results[0][label] += 1\n",
    "    r = model.forward(img.reshape((1, 1, 28, 28))/255.0)\n",
    "    if np.argmax(r, axis = 1) == label:\n",
    "        results[1][label] +=1\n",
    "    results[2][np.argmax(r, axis = 1)] += 1\n",
    "\n",
    "print(results[1])\n",
    "print(results[0])\n",
    "print(results[2])"
   ]
  },
  {
   "cell_type": "code",
   "execution_count": null,
   "metadata": {},
   "outputs": [
    {
     "data": {
      "text/plain": [
       "0.805"
      ]
     },
     "execution_count": 7,
     "metadata": {},
     "output_type": "execute_result"
    }
   ],
   "source": [
    "np.sum(results[1])/np.sum(results[0])"
   ]
  },
  {
   "cell_type": "code",
   "execution_count": null,
   "metadata": {},
   "outputs": [
    {
     "data": {
      "text/plain": [
       "array([0.8556701 , 0.95689655, 0.73737374, 0.76344086, 0.8       ,\n",
       "       0.5326087 , 0.88297872, 0.88034188, 0.75862069, 0.82      ])"
      ]
     },
     "execution_count": 8,
     "metadata": {},
     "output_type": "execute_result"
    }
   ],
   "source": [
    "results[1]/results[0]"
   ]
  }
 ],
 "metadata": {
  "kernelspec": {
   "display_name": "Python 3",
   "language": "python",
   "name": "python3"
  },
  "language_info": {
   "codemirror_mode": {
    "name": "ipython",
    "version": 3
   },
   "file_extension": ".py",
   "mimetype": "text/x-python",
   "name": "python",
   "nbconvert_exporter": "python",
   "pygments_lexer": "ipython3",
   "version": "3.11.3"
  },
  "orig_nbformat": 4
 },
 "nbformat": 4,
 "nbformat_minor": 2
}
