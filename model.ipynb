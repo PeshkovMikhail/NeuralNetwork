{
 "cells": [
  {
   "cell_type": "code",
   "execution_count": 1,
   "metadata": {},
   "outputs": [],
   "source": [
    "from linear import *\n",
    "from convolutional import *\n",
    "from activations import *\n",
    "from loss import CategoricalCrossEntropyLoss\n",
    "import mnist\n",
    "\n",
    "np.random.seed(0)"
   ]
  },
  {
   "cell_type": "code",
   "execution_count": 2,
   "metadata": {},
   "outputs": [],
   "source": [
    "class MnistConv:\n",
    "    def __init__(self, lr = 0.01) -> None:\n",
    "        self.layers = [\n",
    "            ConvLayer(1, 32, 5, activaton=ReLu()),\n",
    "            MaxPool(2),\n",
    "            Flatten(),\n",
    "            Linear(32*12**2, 64, Sigmoid()),\n",
    "            Linear(64, 10, None)\n",
    "        ]\n",
    "        self.lr = lr\n",
    "        self.res = None\n",
    "    \n",
    "    def forward(self, x):\n",
    "        for layer in self.layers:\n",
    "            x = layer(x)\n",
    "        self.res = x\n",
    "        return x\n",
    "    \n",
    "    def backward(self, expected_output):\n",
    "        loss = CategoricalCrossEntropyLoss()\n",
    "        loss_val = loss(self.res, expected_output)\n",
    "        err = loss.derivatives()\n",
    "        for layer in reversed(self.layers):\n",
    "            err = layer.backward(err, self.lr)\n",
    "        return loss_val"
   ]
  },
  {
   "cell_type": "code",
   "execution_count": 3,
   "metadata": {},
   "outputs": [],
   "source": [
    "x_train, t_train, x_test, t_test = mnist.load()\n",
    "model = MnistConv()"
   ]
  },
  {
   "cell_type": "code",
   "execution_count": 4,
   "metadata": {},
   "outputs": [
    {
     "name": "stdout",
     "output_type": "stream",
     "text": [
      "epoch 0/3\n"
     ]
    },
    {
     "ename": "KeyboardInterrupt",
     "evalue": "",
     "output_type": "error",
     "traceback": [
      "\u001b[0;31m---------------------------------------------------------------------------\u001b[0m",
      "\u001b[0;31mKeyboardInterrupt\u001b[0m                         Traceback (most recent call last)",
      "Cell \u001b[0;32mIn[4], line 9\u001b[0m\n\u001b[1;32m      6\u001b[0m \u001b[39mfor\u001b[39;00m i, (img, label) \u001b[39min\u001b[39;00m \u001b[39menumerate\u001b[39m(\u001b[39mzip\u001b[39m(x_train[:\u001b[39m1000\u001b[39m], t_train[:\u001b[39m1000\u001b[39m])):\n\u001b[1;32m      8\u001b[0m     res \u001b[39m=\u001b[39m model\u001b[39m.\u001b[39mforward(img\u001b[39m.\u001b[39mreshape((\u001b[39m1\u001b[39m, \u001b[39m1\u001b[39m, \u001b[39m28\u001b[39m, \u001b[39m28\u001b[39m))\u001b[39m/\u001b[39m\u001b[39m255.0\u001b[39m)\n\u001b[0;32m----> 9\u001b[0m     loss_val \u001b[39m+\u001b[39m\u001b[39m=\u001b[39m model\u001b[39m.\u001b[39;49mbackward(label)\n\u001b[1;32m     10\u001b[0m     \u001b[39mif\u001b[39;00m i \u001b[39m%\u001b[39m \u001b[39m6000\u001b[39m \u001b[39m==\u001b[39m \u001b[39m0\u001b[39m \u001b[39mand\u001b[39;00m i \u001b[39m>\u001b[39m \u001b[39m0\u001b[39m:\n\u001b[1;32m     11\u001b[0m         \u001b[39mprint\u001b[39m(\u001b[39mf\u001b[39m\u001b[39m\"\u001b[39m\u001b[39mepoch: \u001b[39m\u001b[39m{\u001b[39;00mepoch\u001b[39m}\u001b[39;00m\u001b[39m.\u001b[39m\u001b[39m{\u001b[39;00mi\u001b[39m/\u001b[39m\u001b[39m/\u001b[39m\u001b[39m6000\u001b[39m\u001b[39m}\u001b[39;00m\u001b[39m, loss: \u001b[39m\u001b[39m{\u001b[39;00mloss_val\u001b[39m/\u001b[39m\u001b[39m6000\u001b[39m\u001b[39m}\u001b[39;00m\u001b[39m\"\u001b[39m)\n",
      "Cell \u001b[0;32mIn[2], line 24\u001b[0m, in \u001b[0;36mMnistConv.backward\u001b[0;34m(self, expected_output)\u001b[0m\n\u001b[1;32m     22\u001b[0m err \u001b[39m=\u001b[39m loss\u001b[39m.\u001b[39mderivatives()\n\u001b[1;32m     23\u001b[0m \u001b[39mfor\u001b[39;00m layer \u001b[39min\u001b[39;00m \u001b[39mreversed\u001b[39m(\u001b[39mself\u001b[39m\u001b[39m.\u001b[39mlayers):\n\u001b[0;32m---> 24\u001b[0m     err \u001b[39m=\u001b[39m layer\u001b[39m.\u001b[39;49mbackward(err, \u001b[39mself\u001b[39;49m\u001b[39m.\u001b[39;49mlr)\n\u001b[1;32m     25\u001b[0m \u001b[39mreturn\u001b[39;00m loss_val\n",
      "File \u001b[0;32m~/Documents/backup/NeuralNetwork/convolutional.py:70\u001b[0m, in \u001b[0;36mConvLayer.backward\u001b[0;34m(self, err, lr)\u001b[0m\n\u001b[1;32m     67\u001b[0m         r \u001b[39m=\u001b[39m \u001b[39mself\u001b[39m\u001b[39m.\u001b[39minput[:,np\u001b[39m.\u001b[39mnewaxis,:, sy:syk, sx:sxk]\u001b[39m*\u001b[39me\n\u001b[1;32m     68\u001b[0m         \u001b[39mself\u001b[39m\u001b[39m.\u001b[39mgrad_w \u001b[39m+\u001b[39m\u001b[39m=\u001b[39m np\u001b[39m.\u001b[39msum(r, axis\u001b[39m=\u001b[39m\u001b[39m0\u001b[39m)\n\u001b[0;32m---> 70\u001b[0m         din[:,np\u001b[39m.\u001b[39mnewaxis,:, sy:syk, sx:sxk] \u001b[39m+\u001b[39m\u001b[39m=\u001b[39m np\u001b[39m.\u001b[39;49msum(\u001b[39mself\u001b[39;49m\u001b[39m.\u001b[39;49m_weights[np\u001b[39m.\u001b[39;49mnewaxis,:,:]\u001b[39m*\u001b[39;49me,\n\u001b[1;32m     71\u001b[0m                                                       axis \u001b[39m=\u001b[39;49m \u001b[39m1\u001b[39;49m,keepdims\u001b[39m=\u001b[39;49m\u001b[39mTrue\u001b[39;49;00m)\n\u001b[1;32m     74\u001b[0m \u001b[39mself\u001b[39m\u001b[39m.\u001b[39mgrad_b \u001b[39m=\u001b[39m np\u001b[39m.\u001b[39msum(err,axis\u001b[39m=\u001b[39m(\u001b[39m0\u001b[39m,\u001b[39m2\u001b[39m,\u001b[39m3\u001b[39m))  \n\u001b[1;32m     75\u001b[0m \u001b[39mself\u001b[39m\u001b[39m.\u001b[39m_weights \u001b[39m-\u001b[39m\u001b[39m=\u001b[39m lr \u001b[39m*\u001b[39m \u001b[39mself\u001b[39m\u001b[39m.\u001b[39mgrad_w\n",
      "File \u001b[0;32m<__array_function__ internals>:177\u001b[0m, in \u001b[0;36msum\u001b[0;34m(*args, **kwargs)\u001b[0m\n",
      "\u001b[0;31mKeyboardInterrupt\u001b[0m: "
     ]
    }
   ],
   "source": [
    "EPOCHES = 3\n",
    "\n",
    "for epoch in range(EPOCHES):\n",
    "    print(f\"epoch {epoch}/{EPOCHES}\")\n",
    "    loss_val = 0\n",
    "    for i, (img, label) in enumerate(zip(x_train[:1000], t_train[:1000])):\n",
    "\n",
    "        res = model.forward(img.reshape((1, 1, 28, 28))/255.0)\n",
    "        loss_val += model.backward(label)\n",
    "        if i % 100 == 0 and i > 0:\n",
    "            print(f\"epoch: {epoch}.{i//100}, loss: {loss_val/100}\")\n",
    "            loss_val = 0\n",
    "\n",
    "\n"
   ]
  },
  {
   "cell_type": "code",
   "execution_count": null,
   "metadata": {},
   "outputs": [
    {
     "name": "stdout",
     "output_type": "stream",
     "text": [
      "[ 955. 1110.  910.  949.  831.  787.  892.  909.  842.  950.]\n",
      "[ 980. 1135. 1032. 1010.  982.  892.  958. 1028.  974. 1009.]\n",
      "[1025. 1140.  975. 1100.  885.  849.  960.  966.  904. 1196.]\n"
     ]
    }
   ],
   "source": [
    "results = np.zeros((3, 10))\n",
    "for (img, label) in zip(x_test, t_test):\n",
    "    results[0][label] += 1\n",
    "    r = model.forward(img.reshape((1, 1, 28, 28))/255.0)\n",
    "    if np.argmax(r, axis = 1) == label:\n",
    "        results[1][label] +=1\n",
    "    results[2][np.argmax(r, axis = 1)] += 1\n",
    "\n",
    "print(results[1])\n",
    "print(results[0])\n",
    "print(results[2])"
   ]
  },
  {
   "cell_type": "code",
   "execution_count": null,
   "metadata": {},
   "outputs": [
    {
     "data": {
      "text/plain": [
       "0.9135"
      ]
     },
     "execution_count": 6,
     "metadata": {},
     "output_type": "execute_result"
    }
   ],
   "source": [
    "np.sum(results[1])/np.sum(results[0])"
   ]
  },
  {
   "cell_type": "code",
   "execution_count": null,
   "metadata": {},
   "outputs": [
    {
     "data": {
      "text/plain": [
       "array([0.9744898 , 0.97797357, 0.88178295, 0.93960396, 0.84623218,\n",
       "       0.882287  , 0.93110647, 0.88424125, 0.86447639, 0.94152626])"
      ]
     },
     "execution_count": 7,
     "metadata": {},
     "output_type": "execute_result"
    }
   ],
   "source": [
    "results[1]/results[0]"
   ]
  }
 ],
 "metadata": {
  "kernelspec": {
   "display_name": "Python 3",
   "language": "python",
   "name": "python3"
  },
  "language_info": {
   "codemirror_mode": {
    "name": "ipython",
    "version": 3
   },
   "file_extension": ".py",
   "mimetype": "text/x-python",
   "name": "python",
   "nbconvert_exporter": "python",
   "pygments_lexer": "ipython3",
   "version": "3.11.3"
  },
  "orig_nbformat": 4
 },
 "nbformat": 4,
 "nbformat_minor": 2
}
