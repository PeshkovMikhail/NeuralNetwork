{
 "cells": [
  {
   "cell_type": "code",
   "execution_count": 1,
   "metadata": {},
   "outputs": [],
   "source": [
    "import torch\n",
    "import torch.nn as nn\n",
    "import torch.nn.functional as F\n",
    "import numpy as np\n",
    "import mnist"
   ]
  },
  {
   "cell_type": "code",
   "execution_count": 2,
   "metadata": {},
   "outputs": [],
   "source": [
    "class Mnist(torch.utils.data.Dataset):\n",
    "    def __init__(self, limit, train = True):\n",
    "        if train:\n",
    "            data, labels, _, _ = mnist.load()\n",
    "        else:\n",
    "            _, _, data, labels = mnist.load()\n",
    "        print(data.shape)\n",
    "        self.data = data\n",
    "        self.labels = labels\n",
    "        self.limit = limit\n",
    "    \n",
    "    def __len__(self):\n",
    "        return len(self.data[:self.limit])\n",
    "\n",
    "    def __getitem__(self, idx):\n",
    "        return torch.from_numpy(self.data[idx].reshape(1,28,28)).float()/255, self.labels[idx]  \n",
    "\n",
    "class Net(nn.Module):\n",
    "    def __init__(self):\n",
    "        super(Net, self).__init__()\n",
    "        self.cnv = nn.Conv2d(1, 32, (5, 5))\n",
    "        self.pool = nn.MaxPool2d(2)\n",
    "        self.flat = nn.Flatten()\n",
    "        self.fc1 = nn.Linear(32*12**2, 64)\n",
    "        self.fc2 = nn.Linear(64, 10)\n",
    "\n",
    "    def forward(self, x):\n",
    "        x = F.relu(self.cnv(x))\n",
    "        x = self.flat(self.pool(x))\n",
    "        x = F.sigmoid(self.fc1(x))\n",
    "        x = self.fc2(x)\n",
    "        return x"
   ]
  },
  {
   "cell_type": "code",
   "execution_count": 3,
   "metadata": {},
   "outputs": [
    {
     "name": "stdout",
     "output_type": "stream",
     "text": [
      "(60000, 784)\n",
      "(10000, 784)\n"
     ]
    }
   ],
   "source": [
    "model = Net() # Формируем модель НСpass\n",
    "optim = torch.optim.SGD(model.parameters(), lr=0.01)\n",
    "criterion = torch.nn.CrossEntropyLoss(reduction=\"sum\")\n",
    "\n",
    "trainloader = torch.utils.data.DataLoader(Mnist(10000), batch_size=1, shuffle = False)\n",
    "testloader = torch.utils.data.DataLoader(Mnist(1000, False), batch_size=1)"
   ]
  },
  {
   "cell_type": "code",
   "execution_count": 4,
   "metadata": {},
   "outputs": [
    {
     "name": "stdout",
     "output_type": "stream",
     "text": [
      "[1,  2000] loss: 1.331\n",
      "[1,  4000] loss: 0.457\n",
      "[1,  6000] loss: 0.377\n",
      "[1,  8000] loss: 0.335\n",
      "[1, 10000] loss: 0.335\n",
      "[2,  2000] loss: 0.294\n",
      "[2,  4000] loss: 0.195\n",
      "[2,  6000] loss: 0.199\n",
      "[2,  8000] loss: 0.197\n",
      "[2, 10000] loss: 0.198\n",
      "[3,  2000] loss: 0.168\n",
      "[3,  4000] loss: 0.112\n",
      "[3,  6000] loss: 0.120\n",
      "[3,  8000] loss: 0.120\n",
      "[3, 10000] loss: 0.125\n",
      "Finished Training\n"
     ]
    }
   ],
   "source": [
    "for epoch in range(3):  # loop over the dataset multiple times\n",
    "\n",
    "    running_loss = 0.0\n",
    "    for i, data in enumerate(trainloader, 0):\n",
    "        # get the inputs; data is a list of [inputs, labels]\n",
    "        inputs, labels = data\n",
    "\n",
    "        # zero the parameter gradients\n",
    "        optim.zero_grad()\n",
    "\n",
    "        # forward + backward + optimize\n",
    "        outputs = model(inputs)\n",
    "        loss = criterion(outputs, labels)\n",
    "        loss.backward()\n",
    "        optim.step()\n",
    "\n",
    "        # print statistics\n",
    "        running_loss += loss.item()\n",
    "        if i % 2000 == 1999:    # print every 2000 mini-batches\n",
    "            print(f'[{epoch + 1}, {i + 1:5d}] loss: {running_loss / 2000:.3f}')\n",
    "            running_loss = 0.0\n",
    "\n",
    "print('Finished Training')\n"
   ]
  },
  {
   "cell_type": "code",
   "execution_count": 5,
   "metadata": {},
   "outputs": [
    {
     "name": "stdout",
     "output_type": "stream",
     "text": [
      "[ 85. 126. 116. 107. 110.  87.  87.  99.  89.  94.]\n",
      "[ 84. 124. 106.  99. 104.  82.  84.  92.  87.  88.]\n",
      "[ 88. 126. 110. 101. 106.  85.  89.  97. 103.  95.]\n",
      "[0.98823529 0.98412698 0.9137931  0.92523364 0.94545455 0.94252874\n",
      " 0.96551724 0.92929293 0.97752809 0.93617021]\n"
     ]
    }
   ],
   "source": [
    "results = np.zeros((3, 10))\n",
    "with torch.no_grad():\n",
    "    for i, data in enumerate(testloader, 0):\n",
    "        # get the inputs; data is a list of [inputs, labels]\n",
    "        inputs, labels = data\n",
    "\n",
    "        # zero the parameter gradients\n",
    "\n",
    "        # forward + backward + optimize\n",
    "        outputs = model(inputs)\n",
    "        results[0][labels[0]] += 1\n",
    "        pr = torch.argmax(outputs, dim=1)\n",
    "        if(pr == labels):\n",
    "            results[1][labels[0]] +=1\n",
    "        results[2][pr[0]] += 1\n",
    "print(results[0])\n",
    "print(results[1])\n",
    "print(results[2])\n",
    "print(results[1]/results[0])"
   ]
  },
  {
   "cell_type": "code",
   "execution_count": 6,
   "metadata": {},
   "outputs": [
    {
     "data": {
      "text/plain": [
       "0.95"
      ]
     },
     "execution_count": 6,
     "metadata": {},
     "output_type": "execute_result"
    }
   ],
   "source": [
    "np.sum(results[1])/np.sum(results[0])"
   ]
  }
 ],
 "metadata": {
  "kernelspec": {
   "display_name": "Python 3",
   "language": "python",
   "name": "python3"
  },
  "language_info": {
   "codemirror_mode": {
    "name": "ipython",
    "version": 3
   },
   "file_extension": ".py",
   "mimetype": "text/x-python",
   "name": "python",
   "nbconvert_exporter": "python",
   "pygments_lexer": "ipython3",
   "version": "3.11.3"
  },
  "orig_nbformat": 4
 },
 "nbformat": 4,
 "nbformat_minor": 2
}
